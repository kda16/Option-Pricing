{
 "cells": [
  {
   "cell_type": "code",
   "execution_count": 9,
   "metadata": {},
   "outputs": [
    {
     "name": "stdout",
     "output_type": "stream",
     "text": [
      "Price of an asset today: 100\n",
      "Lower price of an asset in future: 80\n",
      "Higher price of an asset in future: 120\n",
      "\n",
      "Replicating portofolio: a = 0.5 shares, b = -40.0£ of cash\n",
      "C = 10.0£ - price of the option\n"
     ]
    }
   ],
   "source": [
    "S_0 = float(input(\"Price of an asset today: \"))\n",
    "S_L = float(input(\"Lower price of an asset in future: \"))\n",
    "S_H = float(input(\"Higher price of an asset in future: \"))\n",
    "\n",
    "a = (S_H - S_0)/(S_H - S_L)\n",
    "b = (-1) * a * S_L\n",
    "print()\n",
    "print(f\"Replicating portofolio: a = {a} shares, b = {b}£ of cash\")\n",
    "C = a * (S_0 - S_L)\n",
    "print(f\"C = {C}£ - price of the option\")"
   ]
  },
  {
   "cell_type": "code",
   "execution_count": 5,
   "metadata": {},
   "outputs": [],
   "source": [
    "import math\n",
    "\n",
    "def first_binomial_call(S_0, K, T, r, u, d, N):\n",
    "    '''\n",
    "    :param S_0: (£) current stock price\n",
    "    :param K: (£) strike price\n",
    "    :param T: (years) life of the option in years\n",
    "    :param r: (float) risk-free interest rate in decimal\n",
    "    :param u: (float > 1) increase in stock price\n",
    "    :param d: (float < 1) decrease in stock price interest\n",
    "    :param N: (int) number of time intervals in int\n",
    "    :return C[(0,0)]: (£) price of European Call Option\n",
    "    '''\n",
    "    dt = T/N\n",
    "    p = (math.exp(r * dt) - d)/(u - d)  # risk-neutral probability\n",
    "    C = {}  # value of option at each node\n",
    "    \n",
    "    # calculating nodes at the last interval\n",
    "    for k in range(N, -1, -1):  # k - number of stock's up movements\n",
    "            S_k = S_0 * (u ** k) * (d ** (N-k))\n",
    "            C[(N, k)] = max(S_k - K, 0)\n",
    "            \n",
    "    # moving backwards from last interval to first\n",
    "    for n in range(N-1, -1, -1):  # n - depth in the tree\n",
    "        for k in range(0, n + 1):\n",
    "            df = math.exp(-r * dt)  # discount factor\n",
    "            # expected value under risk-neutral measure\n",
    "            EX = p * C[(n+1, k+1)] + (1-p) * C[(n+1, k)] \n",
    "            C[(n, k)] = df * EX\n",
    "    return C[(0, 0)]"
   ]
  },
  {
   "cell_type": "code",
   "execution_count": 6,
   "metadata": {},
   "outputs": [
    {
     "data": {
      "text/plain": [
       "'r = 0.00: price = 10.00£'"
      ]
     },
     "execution_count": 6,
     "metadata": {},
     "output_type": "execute_result"
    }
   ],
   "source": [
    "PRMS = {\"S_0\":100, \"K\":100, \"T\":1, \"r\":0, \"u\":1.2, \"d\":0.8, \"N\":1}\n",
    "f\"r = 0.00: price = {first_binomial_call(**PRMS):.2f}£\""
   ]
  },
  {
   "cell_type": "code",
   "execution_count": 7,
   "metadata": {},
   "outputs": [
    {
     "data": {
      "text/plain": [
       "'r = 0.05: price = 11.95£'"
      ]
     },
     "execution_count": 7,
     "metadata": {},
     "output_type": "execute_result"
    }
   ],
   "source": [
    "PRMS = {\"S_0\":100, \"K\":100, \"T\":1, \"r\":0.05, \"u\":1.2, \"d\":0.8, \"N\":1}\n",
    "f\"r = 0.05: price = {first_binomial_call(**PRMS):.2f}£\""
   ]
  },
  {
   "cell_type": "code",
   "execution_count": 8,
   "metadata": {},
   "outputs": [
    {
     "name": "stdout",
     "output_type": "stream",
     "text": [
      "N =   1: price = 10.00\n",
      "N =  10: price = 25.62\n",
      "N = 100: price = 68.55\n",
      "N = 200: price = 84.56\n",
      "N = 300: price = 91.90\n",
      "N = 400: price = 95.61\n",
      "N = 500: price = 97.58\n"
     ]
    }
   ],
   "source": [
    "for N in [1,10,100,200,300,400,500]:\n",
    "    v = first_binomial_call(S_0=100, K=100, T=1, r=0, u=1.2, d=0.8, N=N)\n",
    "    print(f\"N = {N:3d}: price = {v:.2f}\")"
   ]
  },
  {
   "cell_type": "code",
   "execution_count": 10,
   "metadata": {},
   "outputs": [],
   "source": [
    "def binomial_call(S_0, K, T, r, std, N):\n",
    "    '''\n",
    "    :param S_0: (£) current stock price\n",
    "    :param K: (£) strike price\n",
    "    :param T: (years) life of the option in years\n",
    "    :param std: (float) standard deviation of the stock\n",
    "    :param r: (float) risk-free interest rate in decimal\n",
    "    :param N: (int) number of time intervals in int\n",
    "    :return C[(0,0)]: (£) price of European Call Option\n",
    "    '''\n",
    "    dt = T/N\n",
    "    u = math.exp(std * math.sqrt(dt))\n",
    "    d = 1/u\n",
    "    p = (math.exp(r * dt) - d)/(u - d)  # risk-neutral probability\n",
    "    C = {}  # value of option at each node\n",
    "    \n",
    "    # calculating nodes at the last interval\n",
    "    for k in range(N, -1, -1):  # k - number of stock's up movements\n",
    "            S_k = S_0 * (u ** (2*k-N))\n",
    "            C[(N, k)] = max(S_k - K, 0)\n",
    "            \n",
    "    # moving backwards from last interval to first\n",
    "    for n in range(N-1, -1, -1):  # n - depth in the tree\n",
    "        for k in range(0, n + 1):\n",
    "            df = math.exp(-r * dt)  # discount factor\n",
    "            # expected value under risk-neutral measure\n",
    "            EX = p * C[(n+1, k+1)] + (1-p) * C[(n+1, k)] \n",
    "            C[(n, k)] = df * EX\n",
    "    return C[(0, 0)]"
   ]
  },
  {
   "cell_type": "code",
   "execution_count": 12,
   "metadata": {},
   "outputs": [
    {
     "name": "stdout",
     "output_type": "stream",
     "text": [
      "N =   1: price = 9.09\n",
      "N =  10: price = 7.08\n",
      "N = 100: price = 7.25\n",
      "N = 200: price = 7.25\n",
      "N = 300: price = 7.26\n",
      "N = 400: price = 7.26\n",
      "N = 500: price = 7.26\n"
     ]
    }
   ],
   "source": [
    "for N in [1,10,100,200,300,400,500]:\n",
    "    v = binomial_call(S_0=100, K=100, T=1, r=0, std=math.log(1.2)/math.sqrt(1), N=N)\n",
    "    print(f\"N = {N:3d}: price = {v:.2f}\")"
   ]
  }
 ],
 "metadata": {
  "kernelspec": {
   "display_name": "Python 3",
   "language": "python",
   "name": "python3"
  },
  "language_info": {
   "codemirror_mode": {
    "name": "ipython",
    "version": 3
   },
   "file_extension": ".py",
   "mimetype": "text/x-python",
   "name": "python",
   "nbconvert_exporter": "python",
   "pygments_lexer": "ipython3",
   "version": "3.8.3"
  }
 },
 "nbformat": 4,
 "nbformat_minor": 4
}
